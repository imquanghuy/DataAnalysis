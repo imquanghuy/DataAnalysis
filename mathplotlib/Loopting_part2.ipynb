{
 "cells": [
  {
   "cell_type": "markdown",
   "id": "4bdc78ae-f531-48fe-9569-b065334e61d4",
   "metadata": {},
   "source": [
    "# Bài 9 : Review statistics - Part"
   ]
  },
  {
   "cell_type": "code",
   "execution_count": 1,
   "id": "583834d9-3fd3-418c-ba1e-206dc3b36ed9",
   "metadata": {},
   "outputs": [],
   "source": [
    "import numpy as np\n",
    "import pandas as pd\n",
    "\n",
    "import matplotlib.pyplot as plt\n",
    "import seaborn as sns\n",
    "\n",
    "plt.style.use(\"seaborn-whitegrid\")"
   ]
  },
  {
   "cell_type": "markdown",
   "id": "b45857be-5bbc-4cfd-ab5d-48931c945564",
   "metadata": {},
   "source": [
    "## Load and inspest data"
   ]
  },
  {
   "cell_type": "code",
   "execution_count": 2,
   "id": "910ebf7f-c409-4c9d-bc77-ef2cff37c072",
   "metadata": {},
   "outputs": [],
   "source": [
    "# Load\n",
    "tips = sns.load_dataset(\"tips\")"
   ]
  },
  {
   "cell_type": "code",
   "execution_count": 3,
   "id": "d4e941f7-13ad-4ddf-bf60-87e516fdd783",
   "metadata": {},
   "outputs": [
    {
     "data": {
      "text/plain": [
       "(244, 7)"
      ]
     },
     "execution_count": 3,
     "metadata": {},
     "output_type": "execute_result"
    }
   ],
   "source": [
    "#Shape\n",
    "tips.shape"
   ]
  },
  {
   "cell_type": "code",
   "execution_count": 4,
   "id": "900f46f4-95cd-4516-b7b7-283f81e4b99c",
   "metadata": {},
   "outputs": [
    {
     "data": {
      "text/html": [
       "<div>\n",
       "<style scoped>\n",
       "    .dataframe tbody tr th:only-of-type {\n",
       "        vertical-align: middle;\n",
       "    }\n",
       "\n",
       "    .dataframe tbody tr th {\n",
       "        vertical-align: top;\n",
       "    }\n",
       "\n",
       "    .dataframe thead th {\n",
       "        text-align: right;\n",
       "    }\n",
       "</style>\n",
       "<table border=\"1\" class=\"dataframe\">\n",
       "  <thead>\n",
       "    <tr style=\"text-align: right;\">\n",
       "      <th></th>\n",
       "      <th>total_bill</th>\n",
       "      <th>tip</th>\n",
       "      <th>sex</th>\n",
       "      <th>smoker</th>\n",
       "      <th>day</th>\n",
       "      <th>time</th>\n",
       "      <th>size</th>\n",
       "    </tr>\n",
       "  </thead>\n",
       "  <tbody>\n",
       "    <tr>\n",
       "      <th>0</th>\n",
       "      <td>16.99</td>\n",
       "      <td>1.01</td>\n",
       "      <td>Female</td>\n",
       "      <td>No</td>\n",
       "      <td>Sun</td>\n",
       "      <td>Dinner</td>\n",
       "      <td>2</td>\n",
       "    </tr>\n",
       "    <tr>\n",
       "      <th>1</th>\n",
       "      <td>10.34</td>\n",
       "      <td>1.66</td>\n",
       "      <td>Male</td>\n",
       "      <td>No</td>\n",
       "      <td>Sun</td>\n",
       "      <td>Dinner</td>\n",
       "      <td>3</td>\n",
       "    </tr>\n",
       "    <tr>\n",
       "      <th>2</th>\n",
       "      <td>21.01</td>\n",
       "      <td>3.50</td>\n",
       "      <td>Male</td>\n",
       "      <td>No</td>\n",
       "      <td>Sun</td>\n",
       "      <td>Dinner</td>\n",
       "      <td>3</td>\n",
       "    </tr>\n",
       "    <tr>\n",
       "      <th>3</th>\n",
       "      <td>23.68</td>\n",
       "      <td>3.31</td>\n",
       "      <td>Male</td>\n",
       "      <td>No</td>\n",
       "      <td>Sun</td>\n",
       "      <td>Dinner</td>\n",
       "      <td>2</td>\n",
       "    </tr>\n",
       "    <tr>\n",
       "      <th>4</th>\n",
       "      <td>24.59</td>\n",
       "      <td>3.61</td>\n",
       "      <td>Female</td>\n",
       "      <td>No</td>\n",
       "      <td>Sun</td>\n",
       "      <td>Dinner</td>\n",
       "      <td>4</td>\n",
       "    </tr>\n",
       "  </tbody>\n",
       "</table>\n",
       "</div>"
      ],
      "text/plain": [
       "   total_bill   tip     sex smoker  day    time  size\n",
       "0       16.99  1.01  Female     No  Sun  Dinner     2\n",
       "1       10.34  1.66    Male     No  Sun  Dinner     3\n",
       "2       21.01  3.50    Male     No  Sun  Dinner     3\n",
       "3       23.68  3.31    Male     No  Sun  Dinner     2\n",
       "4       24.59  3.61  Female     No  Sun  Dinner     4"
      ]
     },
     "execution_count": 4,
     "metadata": {},
     "output_type": "execute_result"
    }
   ],
   "source": [
    "tips.head()"
   ]
  },
  {
   "cell_type": "markdown",
   "id": "0b5472be-02d7-4e2d-87fb-5c2991a8b239",
   "metadata": {},
   "source": [
    "# Ví dụ 1: Phân loại \n",
    "- `total_bill, tip`: Quantitative > continuous  \n",
    "- `smoker, time, day`: Quantitative > Nominal\n",
    "- `size`: Quantitative > Discrete "
   ]
  },
  {
   "cell_type": "markdown",
   "id": "1bef2a67-f802-414e-bae9-046023177ad7",
   "metadata": {},
   "source": [
    "## Ví dụ 2: Example scenario \n",
    "- Target: \n",
    "    - `tip`: continuous (predict how much tip) basing on other features \n",
    "- Features: other columns\n",
    "    - `total_bill`: continuous\n",
    "    - `smoker`: nominal (binary)\n",
    "    - `day`: nominal\n",
    "    - `time`: nominal (binary)\n",
    "    - `size`: discretis\n",
    "- Observation:\n",
    "    Each row (each meal at a restaurant)"
   ]
  },
  {
   "cell_type": "markdown",
   "id": "25b96fd0-285b-4afb-ab7d-60fa1fe3e65d",
   "metadata": {},
   "source": [
    "## 5. Distributions\n",
    "- Distributions is just a term for how data are distributed(how data points are located)\n",
    "- Will understand more in the next sections"
   ]
  },
  {
   "cell_type": "markdown",
   "id": "74dbc9db-a2e2-417e-8a5f-cc422083827a",
   "metadata": {},
   "source": [
    "## 6. Work with categorical data \n",
    "### 6.1 Important summary stats\n",
    "- Mode: the most common category\n",
    "- Somehow can be thought of the *center* of the distribution (although not exactly)"
   ]
  },
  {
   "cell_type": "code",
   "execution_count": 5,
   "id": "d7683014-1fd4-4ad6-a52d-c2df6bafe657",
   "metadata": {},
   "outputs": [
    {
     "data": {
      "text/plain": [
       "2    156\n",
       "3     38\n",
       "4     37\n",
       "5      5\n",
       "1      4\n",
       "6      4\n",
       "Name: size, dtype: int64"
      ]
     },
     "execution_count": 5,
     "metadata": {},
     "output_type": "execute_result"
    }
   ],
   "source": [
    "tips[\"size\"].value_counts()"
   ]
  },
  {
   "cell_type": "markdown",
   "id": "aa9aa81a-8d1e-469e-9ca5-d5adb8cdc9bf",
   "metadata": {},
   "source": [
    "## 6.2 Characterize categorical distributions\n",
    "- for cateforical data, what we want to display the magnitude of each class:\n",
    "    - Count (absolute count, e.g: 120)\n",
    "    - Percentage (relative count, e.g: 30%)\n",
    "    - Proportion (just pểcntage in decimal form, e.g: 0.3)\n",
    "- Common tools:\n",
    "    - Table: \n",
    "        - Frequency tables (3 types for count, percentage, and proportion)\n",
    "        - A tally of the count of data values that fall into a category \n",
    "        - Suitable for data with small numbers of distinct values (ideal for qualitative data)\n",
    "        - For continous data, should apply binning the data first (as we will see later)\n",
    "     - Plot:\n",
    "         - Bar chart (mỗi bar là một class, chiều cao của bar là magnitude)\n",
    "         - Pie chart (not recommended)\n",
    "         - Bar chart and pie chart are jusst graphical representations of drequecy tables\n",
    "        "
   ]
  },
  {
   "cell_type": "code",
   "execution_count": 10,
   "id": "03c9608f-5c60-4a46-9a0a-b630d104ebb5",
   "metadata": {},
   "outputs": [
    {
     "data": {
      "text/plain": [
       "2    63.934426\n",
       "3    15.573770\n",
       "4    15.163934\n",
       "5     2.049180\n",
       "1     1.639344\n",
       "6     1.639344\n",
       "Name: size, dtype: float64"
      ]
     },
     "execution_count": 10,
     "metadata": {},
     "output_type": "execute_result"
    }
   ],
   "source": [
    "tips[\"size\"].value_counts(normalize = True) *100"
   ]
  },
  {
   "cell_type": "code",
   "execution_count": 12,
   "id": "6baba243-5d95-4c74-9a91-0c252daf919c",
   "metadata": {},
   "outputs": [
    {
     "data": {
      "text/plain": [
       "Dinner    176\n",
       "Lunch      68\n",
       "Name: time, dtype: int64"
      ]
     },
     "execution_count": 12,
     "metadata": {},
     "output_type": "execute_result"
    }
   ],
   "source": [
    "tips[\"time\"].value_counts()"
   ]
  },
  {
   "cell_type": "code",
   "execution_count": 34,
   "id": "cf1c5aef-bb0b-43de-8b42-28d9e2aa861f",
   "metadata": {},
   "outputs": [
    {
     "data": {
      "text/html": [
       "<div>\n",
       "<style scoped>\n",
       "    .dataframe tbody tr th:only-of-type {\n",
       "        vertical-align: middle;\n",
       "    }\n",
       "\n",
       "    .dataframe tbody tr th {\n",
       "        vertical-align: top;\n",
       "    }\n",
       "\n",
       "    .dataframe thead th {\n",
       "        text-align: right;\n",
       "    }\n",
       "</style>\n",
       "<table border=\"1\" class=\"dataframe\">\n",
       "  <thead>\n",
       "    <tr style=\"text-align: right;\">\n",
       "      <th></th>\n",
       "      <th>index</th>\n",
       "      <th>day</th>\n",
       "    </tr>\n",
       "  </thead>\n",
       "  <tbody>\n",
       "    <tr>\n",
       "      <th>0</th>\n",
       "      <td>Sat</td>\n",
       "      <td>0.356557</td>\n",
       "    </tr>\n",
       "    <tr>\n",
       "      <th>1</th>\n",
       "      <td>Sun</td>\n",
       "      <td>0.311475</td>\n",
       "    </tr>\n",
       "    <tr>\n",
       "      <th>2</th>\n",
       "      <td>Thur</td>\n",
       "      <td>0.254098</td>\n",
       "    </tr>\n",
       "    <tr>\n",
       "      <th>3</th>\n",
       "      <td>Fri</td>\n",
       "      <td>0.077869</td>\n",
       "    </tr>\n",
       "  </tbody>\n",
       "</table>\n",
       "</div>"
      ],
      "text/plain": [
       "  index       day\n",
       "0   Sat  0.356557\n",
       "1   Sun  0.311475\n",
       "2  Thur  0.254098\n",
       "3   Fri  0.077869"
      ]
     },
     "execution_count": 34,
     "metadata": {},
     "output_type": "execute_result"
    }
   ],
   "source": [
    "tips[\"day\"].value_counts(normalize = True).reset_index()"
   ]
  },
  {
   "cell_type": "code",
   "execution_count": 42,
   "id": "4dce8a2e-5d5c-46da-8324-fd96cec97db6",
   "metadata": {},
   "outputs": [
    {
     "data": {
      "image/png": "[encoded data removed]",
      "text/plain": [
       "<Figure size 432x288 with 1 Axes>"
      ]
     },
     "metadata": {},
     "output_type": "display_data"
    }
   ],
   "source": [
    "fig, ax = plt.subplots()\n",
    "data = tips[\"day\"].value_counts(normalize = True ) * 100\n",
    "data.plot.bar(ax = ax)\n",
    "ax.set_title(\"Nguyen Quang Huy\")\n",
    "\n",
    "plt.show()"
   ]
  },
  {
   "cell_type": "markdown",
   "id": "f087f6d0-09f9-4e98-9d37-f7e8b1504764",
   "metadata": {},
   "source": [
    "## 7. Continous data\n",
    "### 7.1. Imporrtant summary statistics\n",
    "- Measures of location \n",
    "    - Mean(mean, trimmed mean)\n",
    "    - Median \n",
    "    - Percentiles, quantiles\n",
    "- Measures of variabiliy\n",
    "    - Range\n",
    "    - IQR\n",
    "    - Variance\n",
    "    - Standard deviation"
   ]
  },
  {
   "cell_type": "code",
   "execution_count": 43,
   "id": "148ba9c3-7f15-4f06-a7ad-446543941933",
   "metadata": {},
   "outputs": [
    {
     "data": {
      "text/html": [
       "<div>\n",
       "<style scoped>\n",
       "    .dataframe tbody tr th:only-of-type {\n",
       "        vertical-align: middle;\n",
       "    }\n",
       "\n",
       "    .dataframe tbody tr th {\n",
       "        vertical-align: top;\n",
       "    }\n",
       "\n",
       "    .dataframe thead th {\n",
       "        text-align: right;\n",
       "    }\n",
       "</style>\n",
       "<table border=\"1\" class=\"dataframe\">\n",
       "  <thead>\n",
       "    <tr style=\"text-align: right;\">\n",
       "      <th></th>\n",
       "      <th>total_bill</th>\n",
       "      <th>tip</th>\n",
       "      <th>sex</th>\n",
       "      <th>smoker</th>\n",
       "      <th>day</th>\n",
       "      <th>time</th>\n",
       "      <th>size</th>\n",
       "    </tr>\n",
       "  </thead>\n",
       "  <tbody>\n",
       "    <tr>\n",
       "      <th>0</th>\n",
       "      <td>16.99</td>\n",
       "      <td>1.01</td>\n",
       "      <td>Female</td>\n",
       "      <td>No</td>\n",
       "      <td>Sun</td>\n",
       "      <td>Dinner</td>\n",
       "      <td>2</td>\n",
       "    </tr>\n",
       "    <tr>\n",
       "      <th>1</th>\n",
       "      <td>10.34</td>\n",
       "      <td>1.66</td>\n",
       "      <td>Male</td>\n",
       "      <td>No</td>\n",
       "      <td>Sun</td>\n",
       "      <td>Dinner</td>\n",
       "      <td>3</td>\n",
       "    </tr>\n",
       "    <tr>\n",
       "      <th>2</th>\n",
       "      <td>21.01</td>\n",
       "      <td>3.50</td>\n",
       "      <td>Male</td>\n",
       "      <td>No</td>\n",
       "      <td>Sun</td>\n",
       "      <td>Dinner</td>\n",
       "      <td>3</td>\n",
       "    </tr>\n",
       "  </tbody>\n",
       "</table>\n",
       "</div>"
      ],
      "text/plain": [
       "   total_bill   tip     sex smoker  day    time  size\n",
       "0       16.99  1.01  Female     No  Sun  Dinner     2\n",
       "1       10.34  1.66    Male     No  Sun  Dinner     3\n",
       "2       21.01  3.50    Male     No  Sun  Dinner     3"
      ]
     },
     "execution_count": 43,
     "metadata": {},
     "output_type": "execute_result"
    }
   ],
   "source": [
    "# view data\n",
    "tips.head(3)"
   ]
  },
  {
   "cell_type": "code",
   "execution_count": null,
   "id": "faa32606-67e2-4892-a806-2c747cb1f9ec",
   "metadata": {},
   "outputs": [],
   "source": []
  }
 ],
 "metadata": {
  "kernelspec": {
   "display_name": "Python 3 (ipykernel)",
   "language": "python",
   "name": "python3"
  },
  "language_info": {
   "codemirror_mode": {
    "name": "ipython",
    "version": 3
   },
   "file_extension": ".py",
   "mimetype": "text/x-python",
   "name": "python",
   "nbconvert_exporter": "python",
   "pygments_lexer": "ipython3",
   "version": "3.9.7"
  }
 },
 "nbformat": 4,
 "nbformat_minor": 5
}
