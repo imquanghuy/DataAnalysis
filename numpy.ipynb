{
 "cells": [
  {
   "cell_type": "markdown",
   "id": "5e048d37-f3e5-4eb7-9b90-f93dec7b1f7b",
   "metadata": {},
   "source": [
    "# Bài 1: Numpy(part 1)\n",
    "## 1. Tổng quan\n",
    "- `Numpy` là viết tắt của numerical python, dành cho việc tối ưu tính toán số học\n",
    "- Cấu trúc dữ liệu nền tảng của numpy là num array\n",
    "- Numpy array tương tự như list\n",
    "- Một số đặc điểm nổi bật:\n",
    "    - Các phần tử buộc phải cùng kiểu dữ liệu (dtype) để tối ưu cho việc tính toán\n",
    "    - Kích thước np array không thể thay đổi sau khi tạo\n",
    "    - Tuy nhiên có thể thay đổi giá trị các phần tử\n",
    "    - Hỗ trợ tính toán element-wise\n",
    "    - Là nền tảng dựng nên gói `pandas`, tool chính của DA"
   ]
  },
  {
   "cell_type": "markdown",
   "id": "609e5420-2773-4998-95dd-2d79602b68ef",
   "metadata": {},
   "source": [
    "### 1.1 Tạo numpy array\n",
    "- Thường import numpy dưới tên `np`"
   ]
  },
  {
   "cell_type": "code",
   "execution_count": 1,
   "id": "d763381c-10e2-44e5-8717-d7ac769e19c1",
   "metadata": {},
   "outputs": [],
   "source": [
    "import numpy as np"
   ]
  },
  {
   "cell_type": "markdown",
   "id": "bc60bd3f-4ba7-48de-82c0-304155204fed",
   "metadata": {},
   "source": [
    "- Đơn giản nhất là khởi tạo np array từ list, tuple"
   ]
  },
  {
   "cell_type": "code",
   "execution_count": 3,
   "id": "53d7839e-daa8-4137-a7a6-333e46278792",
   "metadata": {},
   "outputs": [],
   "source": [
    "l = [1, 1.2, 4]\n",
    "a = np.array(l)"
   ]
  },
  {
   "cell_type": "code",
   "execution_count": 4,
   "id": "3502bc24-e5fe-43de-bcfa-bd2cae5909b7",
   "metadata": {},
   "outputs": [
    {
     "data": {
      "text/plain": [
       "array([1. , 1.2, 4. ])"
      ]
     },
     "execution_count": 4,
     "metadata": {},
     "output_type": "execute_result"
    }
   ],
   "source": [
    "a"
   ]
  },
  {
   "cell_type": "code",
   "execution_count": 6,
   "id": "2b3f2242-e17d-40db-aa28-8d4687324c76",
   "metadata": {},
   "outputs": [
    {
     "data": {
      "text/plain": [
       "numpy.ndarray"
      ]
     },
     "execution_count": 6,
     "metadata": {},
     "output_type": "execute_result"
    }
   ],
   "source": [
    "# tyoe n-dimensional\n",
    "type(a)"
   ]
  },
  {
   "cell_type": "code",
   "execution_count": 7,
   "id": "94dc930a-857c-4528-b031-629307c78048",
   "metadata": {},
   "outputs": [
    {
     "data": {
      "text/plain": [
       "dtype('float64')"
      ]
     },
     "execution_count": 7,
     "metadata": {},
     "output_type": "execute_result"
    }
   ],
   "source": [
    "# Type of element data type\n",
    "a.dtype"
   ]
  },
  {
   "cell_type": "code",
   "execution_count": 8,
   "id": "31fe62b8-59b1-4101-9234-367be123e935",
   "metadata": {},
   "outputs": [],
   "source": [
    "t = (1,2,3,4,5)\n",
    "a = np.array(t)"
   ]
  },
  {
   "cell_type": "code",
   "execution_count": 13,
   "id": "f46054af-6c62-48b3-8fba-00e209cf5d08",
   "metadata": {},
   "outputs": [
    {
     "data": {
      "text/plain": [
       "array([1, 2, 3, 4, 5])"
      ]
     },
     "execution_count": 13,
     "metadata": {},
     "output_type": "execute_result"
    }
   ],
   "source": [
    "a"
   ]
  },
  {
   "cell_type": "code",
   "execution_count": 14,
   "id": "5e8dffcd-4fcf-441a-aa2c-2e79b3059a24",
   "metadata": {},
   "outputs": [
    {
     "data": {
      "text/plain": [
       "dtype('int64')"
      ]
     },
     "execution_count": 14,
     "metadata": {},
     "output_type": "execute_result"
    }
   ],
   "source": [
    "a.dtype"
   ]
  },
  {
   "cell_type": "markdown",
   "id": "5f3a0fd7-0e25-47d7-940f-001af31063a1",
   "metadata": {},
   "source": [
    "- Tạo array các số nguyên liên tiếp (hoặc nhảy 1 khoảng cố định)"
   ]
  },
  {
   "cell_type": "code",
   "execution_count": 15,
   "id": "d3d9931e-89ae-4891-87d0-89437d71a631",
   "metadata": {},
   "outputs": [
    {
     "data": {
      "text/plain": [
       "range(0, 10)"
      ]
     },
     "execution_count": 15,
     "metadata": {},
     "output_type": "execute_result"
    }
   ],
   "source": [
    "range(10)"
   ]
  },
  {
   "cell_type": "code",
   "execution_count": 17,
   "id": "fd09cb4e-8d7e-4952-8391-26e26b2ce89f",
   "metadata": {},
   "outputs": [
    {
     "data": {
      "text/plain": [
       "array([0, 1, 2, 3, 4, 5, 6, 7, 8, 9])"
      ]
     },
     "execution_count": 17,
     "metadata": {},
     "output_type": "execute_result"
    }
   ],
   "source": [
    "np.arange(10)"
   ]
  },
  {
   "cell_type": "code",
   "execution_count": 18,
   "id": "83bf6e3c-aea9-4edd-881d-e533d2b5e4db",
   "metadata": {},
   "outputs": [
    {
     "data": {
      "text/plain": [
       "array([1, 2, 3, 4, 5, 6, 7, 8, 9])"
      ]
     },
     "execution_count": 18,
     "metadata": {},
     "output_type": "execute_result"
    }
   ],
   "source": [
    "np.arange(1,10)"
   ]
  },
  {
   "cell_type": "code",
   "execution_count": 19,
   "id": "f71cfbd9-1616-4adb-910d-922eb3bb6fee",
   "metadata": {},
   "outputs": [
    {
     "data": {
      "text/plain": [
       "array([1, 3, 5, 7, 9])"
      ]
     },
     "execution_count": 19,
     "metadata": {},
     "output_type": "execute_result"
    }
   ],
   "source": [
    "np.arange(1,10,2)"
   ]
  },
  {
   "cell_type": "code",
   "execution_count": 20,
   "id": "89ec77e6-36d1-4f51-a5fc-7000a536d7f9",
   "metadata": {},
   "outputs": [
    {
     "data": {
      "text/plain": [
       "array([0. , 0.1, 0.2, 0.3, 0.4, 0.5, 0.6, 0.7, 0.8, 0.9, 1. ])"
      ]
     },
     "execution_count": 20,
     "metadata": {},
     "output_type": "execute_result"
    }
   ],
   "source": [
    "np.arange(0,1.000001,0.1)"
   ]
  },
  {
   "cell_type": "markdown",
   "id": "c9931886-9d94-44a4-8fef-e6eb3f899f76",
   "metadata": {},
   "source": [
    "- Nếu data không cùng kiểu, sẽ được promote lên kiểu tổng quát nhất"
   ]
  },
  {
   "cell_type": "code",
   "execution_count": 24,
   "id": "9f9fbd37-e890-430f-98f5-6a8485dd3ee3",
   "metadata": {},
   "outputs": [
    {
     "name": "stdout",
     "output_type": "stream",
     "text": [
      "[0.  1.  2.  1.  0.  3.5]\n",
      "float64\n"
     ]
    }
   ],
   "source": [
    "# Ví dụ 1: convert all to float\n",
    "a = np.array([0,1,2, True, False, 3.5])\n",
    "print(a)\n",
    "print(a.dtype)"
   ]
  },
  {
   "cell_type": "code",
   "execution_count": 25,
   "id": "74058813-1fe7-4aae-8963-5bda5d67a8b4",
   "metadata": {},
   "outputs": [
    {
     "name": "stdout",
     "output_type": "stream",
     "text": [
      "['1' '2' 'True' 'Apple']\n",
      "<U21\n"
     ]
    }
   ],
   "source": [
    "# Ví dụ 2: covert all to str\n",
    "a = np.array([1,2, True, 'Apple'])\n",
    "\n",
    "print(a)\n",
    "print(a.dtype)"
   ]
  },
  {
   "cell_type": "code",
   "execution_count": 27,
   "id": "4dddb5a5-c8c0-472d-b52a-82e893c65d59",
   "metadata": {},
   "outputs": [
    {
     "name": "stdout",
     "output_type": "stream",
     "text": [
      "[1 2 True 'Apple' list([1, 2])]\n",
      "object\n"
     ]
    },
    {
     "name": "stderr",
     "output_type": "stream",
     "text": [
      "/var/folders/gx/0xqp3mnx7vl_hw5j6gyp9wfm0000gn/T/ipykernel_2033/2095677541.py:5: VisibleDeprecationWarning: Creating an ndarray from ragged nested sequences (which is a list-or-tuple of lists-or-tuples-or ndarrays with different lengths or shapes) is deprecated. If you meant to do this, you must specify 'dtype=object' when creating the ndarray.\n",
      "  a = np.array([1, 2, True, \"Apple\", [1,2]])\n"
     ]
    }
   ],
   "source": [
    "# ví dụ 3: covert all to object (not recommend)\n",
    "# Mục đích của np sinh ra để tối ưu hoá tính toán cho collection chứa các phần tử cùng kiểu\n",
    "# Vì vậy, không dùng numpy để handle collection của elements khác kiểu\n",
    "\n",
    "a = np.array([1, 2, True, \"Apple\", [1,2]])\n",
    "print(a)\n",
    "print(a.dtype)"
   ]
  },
  {
   "cell_type": "markdown",
   "id": "ffc32454-5e9d-440c-97c2-b2a2b623553c",
   "metadata": {},
   "source": [
    "- Array 2 chiều (tương tự như nested list)"
   ]
  },
  {
   "cell_type": "code",
   "execution_count": 28,
   "id": "853b5312-eeaf-4425-bc84-1a63daea02cc",
   "metadata": {},
   "outputs": [],
   "source": [
    "l = [\n",
    "    [1,2],\n",
    "    [3,4]\n",
    "]\n"
   ]
  },
  {
   "cell_type": "code",
   "execution_count": 29,
   "id": "5031093b-b0ce-4362-836a-12d3c2984af6",
   "metadata": {},
   "outputs": [
    {
     "data": {
      "text/plain": [
       "1"
      ]
     },
     "execution_count": 29,
     "metadata": {},
     "output_type": "execute_result"
    }
   ],
   "source": [
    "l[0][0]"
   ]
  },
  {
   "cell_type": "markdown",
   "id": "48ef1e42-c89e-4cb7-b860-429544871894",
   "metadata": {},
   "source": [
    "# 2. Thao tác numpy array"
   ]
  },
  {
   "cell_type": "markdown",
   "id": "70b28ca3-4bc6-42fd-9a70-371458f24217",
   "metadata": {},
   "source": [
    "## 2.1 Lấy thông tin cơ bản"
   ]
  },
  {
   "cell_type": "markdown",
   "id": "c9ff83c6-8bf2-4bbd-b230-84b2f30802cc",
   "metadata": {},
   "source": [
    "- Khởi tạo "
   ]
  },
  {
   "cell_type": "code",
   "execution_count": 30,
   "id": "6ab65c76-0c05-47f7-a9f4-19e3d7c7b355",
   "metadata": {},
   "outputs": [
    {
     "name": "stdout",
     "output_type": "stream",
     "text": [
      "[1 2 3 4 5 6 7]\n",
      "[[1 2]\n",
      " [3 4]\n",
      " [5 6]]\n"
     ]
    }
   ],
   "source": [
    "a = np.array([1,2,3,4,5,6,7])\n",
    "b = np.array([[1,2], [3,4], [5,6]])\n",
    "\n",
    "print(a)\n",
    "print(b)"
   ]
  },
  {
   "cell_type": "markdown",
   "id": "d9fb985a-f9c3-492a-b641-264608a68654",
   "metadata": {},
   "source": [
    "- Đếm số phần tử - len"
   ]
  },
  {
   "cell_type": "code",
   "execution_count": 31,
   "id": "24877995-ba42-4ade-9e3c-dd9081683dfc",
   "metadata": {},
   "outputs": [
    {
     "data": {
      "text/plain": [
       "7"
      ]
     },
     "execution_count": 31,
     "metadata": {},
     "output_type": "execute_result"
    }
   ],
   "source": [
    "len(a)"
   ]
  },
  {
   "cell_type": "code",
   "execution_count": 32,
   "id": "6d0b562e-551e-47bc-b18a-54befc791881",
   "metadata": {},
   "outputs": [
    {
     "data": {
      "text/plain": [
       "3"
      ]
     },
     "execution_count": 32,
     "metadata": {},
     "output_type": "execute_result"
    }
   ],
   "source": [
    "len(b)"
   ]
  },
  {
   "cell_type": "markdown",
   "id": "ec0a659a-a8d6-4dbb-9d81-9a76957817e2",
   "metadata": {},
   "source": [
    "- Đếm số phần tử - size"
   ]
  },
  {
   "cell_type": "code",
   "execution_count": 33,
   "id": "4e30950c-e059-4f3c-97a2-6ef42f64238a",
   "metadata": {},
   "outputs": [
    {
     "data": {
      "text/plain": [
       "7"
      ]
     },
     "execution_count": 33,
     "metadata": {},
     "output_type": "execute_result"
    }
   ],
   "source": [
    "a.size"
   ]
  },
  {
   "cell_type": "code",
   "execution_count": 34,
   "id": "8d1b002c-d749-45f5-ba24-438396e470f3",
   "metadata": {},
   "outputs": [
    {
     "data": {
      "text/plain": [
       "6"
      ]
     },
     "execution_count": 34,
     "metadata": {},
     "output_type": "execute_result"
    }
   ],
   "source": [
    "b.size"
   ]
  },
  {
   "cell_type": "markdown",
   "id": "9f649e9b-cea6-4de5-9ef8-922d6e2fd8cc",
   "metadata": {},
   "source": [
    "- check dtype"
   ]
  },
  {
   "cell_type": "code",
   "execution_count": 35,
   "id": "15d9cd92-eb27-4261-9035-6d34ca873d71",
   "metadata": {},
   "outputs": [
    {
     "data": {
      "text/plain": [
       "dtype('int64')"
      ]
     },
     "execution_count": 35,
     "metadata": {},
     "output_type": "execute_result"
    }
   ],
   "source": [
    "a.dtype"
   ]
  },
  {
   "cell_type": "code",
   "execution_count": 36,
   "id": "a963e2f1-6245-42a1-8e52-3e358b8878a6",
   "metadata": {},
   "outputs": [
    {
     "data": {
      "text/plain": [
       "dtype('int64')"
      ]
     },
     "execution_count": 36,
     "metadata": {},
     "output_type": "execute_result"
    }
   ],
   "source": [
    "b.dtype"
   ]
  },
  {
   "cell_type": "markdown",
   "id": "9e4fd159-761d-4bad-824a-58f35c6d1a76",
   "metadata": {},
   "source": [
    "- check số chiều"
   ]
  },
  {
   "cell_type": "code",
   "execution_count": 38,
   "id": "365576cd-c162-4e32-bfd3-f5b1eda3fdd8",
   "metadata": {},
   "outputs": [
    {
     "data": {
      "text/plain": [
       "1"
      ]
     },
     "execution_count": 38,
     "metadata": {},
     "output_type": "execute_result"
    }
   ],
   "source": [
    "a.ndim"
   ]
  },
  {
   "cell_type": "code",
   "execution_count": 39,
   "id": "0d23f439-0b0e-4fef-b0b3-a0433cce0ab2",
   "metadata": {},
   "outputs": [
    {
     "data": {
      "text/plain": [
       "2"
      ]
     },
     "execution_count": 39,
     "metadata": {},
     "output_type": "execute_result"
    }
   ],
   "source": [
    "b.ndim\n"
   ]
  },
  {
   "cell_type": "markdown",
   "id": "51ae1d02-edb2-4641-9da8-bc93dd7dfccb",
   "metadata": {},
   "source": [
    "- check shape"
   ]
  },
  {
   "cell_type": "code",
   "execution_count": 40,
   "id": "664c935b-310b-4aff-942e-beaf638c9ecb",
   "metadata": {},
   "outputs": [
    {
     "data": {
      "text/plain": [
       "(7,)"
      ]
     },
     "execution_count": 40,
     "metadata": {},
     "output_type": "execute_result"
    }
   ],
   "source": [
    "a.shape\n"
   ]
  },
  {
   "cell_type": "code",
   "execution_count": 42,
   "id": "1db30a12-b980-48dc-bec5-3d4ee99bfe67",
   "metadata": {},
   "outputs": [
    {
     "data": {
      "text/plain": [
       "(3, 2)"
      ]
     },
     "execution_count": 42,
     "metadata": {},
     "output_type": "execute_result"
    }
   ],
   "source": [
    "b.shape"
   ]
  },
  {
   "cell_type": "markdown",
   "id": "08629b3f-5395-47de-b9cd-2e1ff61d952a",
   "metadata": {},
   "source": [
    "## 2.2 Indexing and Slicing 1d-arrays\n",
    "- Tương tự list"
   ]
  },
  {
   "cell_type": "markdown",
   "id": "7429f48e-a743-4d0d-b5a9-656bf5892d7b",
   "metadata": {},
   "source": [
    "### A) Index/ Slice (read)"
   ]
  },
  {
   "cell_type": "code",
   "execution_count": 44,
   "id": "7528c462-18c4-4fab-ba4d-573668ee554a",
   "metadata": {},
   "outputs": [
    {
     "name": "stdout",
     "output_type": "stream",
     "text": [
      "[ 0  1  2  3  4  5  6  7  8  9 10 11]\n"
     ]
    }
   ],
   "source": [
    "# Initialize\n",
    "a = np.arange(12)\n",
    "print(a)"
   ]
  },
  {
   "cell_type": "code",
   "execution_count": 45,
   "id": "5b1bbb80-d0c5-4694-a75f-82c8e6a85733",
   "metadata": {},
   "outputs": [
    {
     "data": {
      "text/plain": [
       "0"
      ]
     },
     "execution_count": 45,
     "metadata": {},
     "output_type": "execute_result"
    }
   ],
   "source": [
    "# First\n",
    "a[0]"
   ]
  },
  {
   "cell_type": "code",
   "execution_count": 47,
   "id": "5c1b4997-17ad-43c4-819d-e0971215d952",
   "metadata": {},
   "outputs": [
    {
     "data": {
      "text/plain": [
       "11"
      ]
     },
     "execution_count": 47,
     "metadata": {},
     "output_type": "execute_result"
    }
   ],
   "source": [
    "# Last elem\n",
    "a[-1]"
   ]
  },
  {
   "cell_type": "code",
   "execution_count": 48,
   "id": "5037501d-e8d3-4e67-b99d-c3392678cb03",
   "metadata": {},
   "outputs": [
    {
     "data": {
      "text/plain": [
       "array([0, 1, 2])"
      ]
     },
     "execution_count": 48,
     "metadata": {},
     "output_type": "execute_result"
    }
   ],
   "source": [
    "# 1st to 3rd\n",
    "a[:3]"
   ]
  },
  {
   "cell_type": "code",
   "execution_count": 49,
   "id": "4d14858d-acd7-4e5c-9b13-e90e11377e19",
   "metadata": {},
   "outputs": [
    {
     "data": {
      "text/plain": [
       "array([ 2,  3,  4,  5,  6,  7,  8,  9, 10, 11])"
      ]
     },
     "execution_count": 49,
     "metadata": {},
     "output_type": "execute_result"
    }
   ],
   "source": [
    "# 3rd to last\n",
    "a[2:]"
   ]
  },
  {
   "cell_type": "code",
   "execution_count": 50,
   "id": "bf4cffa9-cf58-4928-9f90-5f5b70921f08",
   "metadata": {},
   "outputs": [
    {
     "data": {
      "text/plain": [
       "array([ 2,  3,  4,  5,  6,  7,  8,  9, 10])"
      ]
     },
     "execution_count": 50,
     "metadata": {},
     "output_type": "execute_result"
    }
   ],
   "source": [
    "# 3rd to second to last\n",
    "a[2:-1]"
   ]
  },
  {
   "cell_type": "markdown",
   "id": "9ec2b057-d035-492d-8f8c-df12a2faf3c7",
   "metadata": {},
   "source": [
    "### B) Index (write)"
   ]
  },
  {
   "cell_type": "code",
   "execution_count": 51,
   "id": "7b3aaa13-f898-4895-832a-23d4b1bc377c",
   "metadata": {},
   "outputs": [
    {
     "data": {
      "text/plain": [
       "array([99,  1,  2,  3,  4,  5,  6,  7,  8,  9, 10, 11])"
      ]
     },
     "execution_count": 51,
     "metadata": {},
     "output_type": "execute_result"
    }
   ],
   "source": [
    "# Sửa phần tử đầu thành 99\n",
    "a[0] =99\n",
    "a"
   ]
  },
  {
   "cell_type": "code",
   "execution_count": 53,
   "id": "ee936372-7d93-4edb-a019-54403f8798a6",
   "metadata": {},
   "outputs": [
    {
     "data": {
      "text/plain": [
       "array([90, 80, 70,  3,  4,  5,  6,  7,  8,  9, 10, 11])"
      ]
     },
     "execution_count": 53,
     "metadata": {},
     "output_type": "execute_result"
    }
   ],
   "source": [
    "# slice 3 phần tử đầu và thay chúng bằng [90, 80, 70]\n",
    "a[:3] = [90, 80, 70]\n",
    "a"
   ]
  },
  {
   "cell_type": "code",
   "execution_count": 54,
   "id": "3c8efff1-73a9-4220-af55-8954a2830564",
   "metadata": {},
   "outputs": [
    {
     "data": {
      "text/plain": [
       "[1, 2, 3, 4]"
      ]
     },
     "execution_count": 54,
     "metadata": {},
     "output_type": "execute_result"
    }
   ],
   "source": [
    "l[:3] = [1, 2, 3, 4]\n",
    "l"
   ]
  },
  {
   "cell_type": "code",
   "execution_count": null,
   "id": "6d3aea26-86b8-4609-92e1-e5dcb9f954f6",
   "metadata": {},
   "outputs": [],
   "source": [
    "## 2.3 In"
   ]
  }
 ],
 "metadata": {
  "kernelspec": {
   "display_name": "Python 3 (ipykernel)",
   "language": "python",
   "name": "python3"
  },
  "language_info": {
   "codemirror_mode": {
    "name": "ipython",
    "version": 3
   },
   "file_extension": ".py",
   "mimetype": "text/x-python",
   "name": "python",
   "nbconvert_exporter": "python",
   "pygments_lexer": "ipython3",
   "version": "3.9.7"
  }
 },
 "nbformat": 4,
 "nbformat_minor": 5
}
